{
  "nbformat": 4,
  "nbformat_minor": 0,
  "metadata": {
    "colab": {
      "provenance": [],
      "authorship_tag": "ABX9TyMPn7mHJZkJDZXLYfqcQjKh",
      "include_colab_link": true
    },
    "kernelspec": {
      "name": "python3",
      "display_name": "Python 3"
    },
    "language_info": {
      "name": "python"
    }
  },
  "cells": [
    {
      "cell_type": "markdown",
      "metadata": {
        "id": "view-in-github",
        "colab_type": "text"
      },
      "source": [
        "<a href=\"https://colab.research.google.com/github/UNLAM-TECNICATURA-PROGRAMACION/material_de_clase_01/blob/main/Ejemplos_vistos_en_la_primera_clase.ipynb\" target=\"_parent\"><img src=\"https://colab.research.google.com/assets/colab-badge.svg\" alt=\"Open In Colab\"/></a>"
      ]
    },
    {
      "cell_type": "markdown",
      "source": [
        "Acá lo que voy a realizar es una ejecuación de un comando de linux"
      ],
      "metadata": {
        "id": "LbZRc4oEPw-b"
      }
    },
    {
      "cell_type": "code",
      "source": [
        "!touch example.cpp\n"
      ],
      "metadata": {
        "id": "yGpwBX_IQDzm"
      },
      "execution_count": 2,
      "outputs": []
    },
    {
      "cell_type": "markdown",
      "source": [
        "Estoy probando el ejemplo que hizo el profesor en la pre"
      ],
      "metadata": {
        "id": "PjtsN7YsfzqW"
      }
    },
    {
      "cell_type": "code",
      "source": [
        "vida = 0\n",
        "if vida > 0:\n",
        "    print(\"Sigue vivo\")\n",
        "else:\n",
        "    print(\"Game Over\")"
      ],
      "metadata": {
        "colab": {
          "base_uri": "https://localhost:8080/"
        },
        "id": "cFlG0NMgfJba",
        "outputId": "e44418cb-f39e-443d-bc75-434b24d53d33"
      },
      "execution_count": 8,
      "outputs": [
        {
          "output_type": "stream",
          "name": "stdout",
          "text": [
            "Game Over\n"
          ]
        }
      ]
    },
    {
      "cell_type": "markdown",
      "source": [
        "Estamos probando un condicional anidado con el ejemplo siguiente"
      ],
      "metadata": {
        "id": "UoaD88z4grLv"
      }
    },
    {
      "cell_type": "code",
      "source": [
        "nivel = 2\n",
        "if nivel == 1:\n",
        "    print(\"Fácil\")\n",
        "elif nivel == 2:\n",
        "    print(\"Intermedio\")\n",
        "elif nivel == 3:\n",
        "    print(\"Difícil\")\n",
        "else:\n",
        "    print(\"Nivel no válido\")"
      ],
      "metadata": {
        "colab": {
          "base_uri": "https://localhost:8080/"
        },
        "id": "ZxtfeOjjRrSf",
        "outputId": "71552c35-2812-4895-e588-3afb9a7b7eca"
      },
      "execution_count": 10,
      "outputs": [
        {
          "output_type": "stream",
          "name": "stdout",
          "text": [
            "Intermedio\n"
          ]
        }
      ]
    },
    {
      "cell_type": "code",
      "source": [
        "vidas = 3\n",
        "while vidas > 0:\n",
        "    if vidas == 3:\n",
        "      print(\"Jugando...\")\n",
        "    vidas -= 1\n",
        "print(\"Game Over\")"
      ],
      "metadata": {
        "colab": {
          "base_uri": "https://localhost:8080/"
        },
        "id": "H8deM0uahWb8",
        "outputId": "23593760-410f-4992-bb9b-3f8d1e166c72"
      },
      "execution_count": 5,
      "outputs": [
        {
          "output_type": "stream",
          "name": "stdout",
          "text": [
            "Jugando...\n",
            "Game Over\n"
          ]
        }
      ]
    },
    {
      "cell_type": "code",
      "source": [
        "for i in range(5):\n",
        "    print(\"Nivel\", i + 1)\n"
      ],
      "metadata": {
        "colab": {
          "base_uri": "https://localhost:8080/"
        },
        "id": "zm24NWNsiOS6",
        "outputId": "19f97a99-8199-47e5-db20-82f2239e862a"
      },
      "execution_count": 6,
      "outputs": [
        {
          "output_type": "stream",
          "name": "stdout",
          "text": [
            "Nivel 1\n",
            "Nivel 2\n",
            "Nivel 3\n",
            "Nivel 4\n",
            "Nivel 5\n"
          ]
        }
      ]
    },
    {
      "cell_type": "code",
      "source": [
        "nombre = input(\"Nombre: \")\n",
        "vidas = 3\n",
        "puntaje = 0\n",
        "while vidas > 0:\n",
        "    respuesta = input(\"¿2 + 2? \")\n",
        "    if respuesta == \"4\":\n",
        "        puntaje += 10\n",
        "        print(\"¡Correcto!\")\n",
        "    else:\n",
        "        vidas -= 1\n",
        "        print(\"Incorrecto. Vidas restantes:\", vidas)\n",
        "        break\n",
        "print(\"Fin del juego,\", nombre, \"- Puntaje:\", puntaje)"
      ],
      "metadata": {
        "colab": {
          "base_uri": "https://localhost:8080/"
        },
        "id": "Q8zeIT7QicFM",
        "outputId": "bab3df8b-bcc7-4d89-ca6d-d46560ff77d6"
      },
      "execution_count": 11,
      "outputs": [
        {
          "output_type": "stream",
          "name": "stdout",
          "text": [
            "Nombre: dd\n",
            "¿2 + 2? 3\n",
            "Incorrecto. Vidas restantes: 2\n",
            "Fin del juego, dd - Puntaje: 0\n"
          ]
        }
      ]
    },
    {
      "cell_type": "code",
      "execution_count": 3,
      "metadata": {
        "colab": {
          "base_uri": "https://localhost:8080/"
        },
        "id": "jl3nJOraPc4o",
        "outputId": "563c5632-f137-4417-fdc4-e436b0c881ce"
      },
      "outputs": [
        {
          "output_type": "stream",
          "name": "stdout",
          "text": [
            "total 16\n",
            "drwxr-xr-x 1 root root 4096 Apr 11 00:29 .\n",
            "drwxr-xr-x 1 root root 4096 Apr 11 00:27 ..\n",
            "drwxr-xr-x 4 root root 4096 Apr  9 13:38 .config\n",
            "-rw-r--r-- 1 root root    0 Apr 11 00:29 example.cpp\n",
            "drwxr-xr-x 1 root root 4096 Apr  9 13:38 sample_data\n"
          ]
        }
      ],
      "source": [
        "!ls -la"
      ]
    }
  ]
}