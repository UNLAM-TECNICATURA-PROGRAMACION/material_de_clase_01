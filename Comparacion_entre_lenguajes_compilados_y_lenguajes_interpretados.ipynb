{
  "nbformat": 4,
  "nbformat_minor": 0,
  "metadata": {
    "colab": {
      "provenance": [],
      "authorship_tag": "ABX9TyNi35l2BHjpMPb/msuOFi/r",
      "include_colab_link": true
    },
    "kernelspec": {
      "name": "python3",
      "display_name": "Python 3"
    },
    "language_info": {
      "name": "python"
    }
  },
  "cells": [
    {
      "cell_type": "markdown",
      "metadata": {
        "id": "view-in-github",
        "colab_type": "text"
      },
      "source": [
        "<a href=\"https://colab.research.google.com/github/UNLAM-TECNICATURA-PROGRAMACION/material_de_clase_01/blob/main/Comparacion_entre_lenguajes_compilados_y_lenguajes_interpretados.ipynb\" target=\"_parent\"><img src=\"https://colab.research.google.com/assets/colab-badge.svg\" alt=\"Open In Colab\"/></a>"
      ]
    },
    {
      "cell_type": "markdown",
      "source": [],
      "metadata": {
        "id": "ZwrM17w9wFIZ"
      }
    },
    {
      "cell_type": "markdown",
      "source": [
        "# ⏱ Comparativa de tiempos entre lenguajes de programación\n",
        "\n",
        "Este cuaderno permite comparar el tiempo de ejecución de una tarea simple entre Python, C++ y C#.\n",
        "\n",
        "**⚠️ Nota:** Colab permite ejecutar C++ directamente. Para C#, se necesita que el entorno tenga instalado `mono`, lo cual no siempre está disponible. En caso de errores, podés ejecutar el código en [Replit](https://replit.com/) o localmente.\n"
      ],
      "metadata": {
        "id": "eYWqbokxarMT"
      }
    },
    {
      "cell_type": "code",
      "source": [
        "import time\n",
        "\n",
        "def tarea():\n",
        "    total = 0\n",
        "    for i in range(10**7):\n",
        "        total += i\n",
        "    return total\n",
        "\n",
        "inicio = time.time()\n",
        "resultado = tarea()\n",
        "fin = time.time()\n",
        "\n",
        "print(f\"Resultado: {resultado}\")\n",
        "print(f\"⏱ Tiempo de ejecución en Python: {fin - inicio:.4f} segundos\")\n"
      ],
      "metadata": {
        "colab": {
          "base_uri": "https://localhost:8080/"
        },
        "id": "WKWG0pCCa0j8",
        "outputId": "b4a56c77-5222-48ab-ae25-875003c4e967"
      },
      "execution_count": 1,
      "outputs": [
        {
          "output_type": "stream",
          "name": "stdout",
          "text": [
            "Resultado: 49999995000000\n",
            "⏱ Tiempo de ejecución en Python: 1.9968 segundos\n"
          ]
        }
      ]
    },
    {
      "cell_type": "code",
      "source": [
        "%%writefile tarea.cpp\n",
        "#include <iostream>\n",
        "#include <chrono>\n",
        "int main()\n",
        "{\n",
        "    auto inicio = std::chrono::high_resolution_clock::now();\n",
        "    long long total = 0;\n",
        "    for (int i = 0; i < 10000000; ++i) total += i;\n",
        "    auto fin = std::chrono::high_resolution_clock::now();\n",
        "    std::chrono::duration<double> duracion = fin - inicio;\n",
        "    std::cout << \"Resultado: \" << total << std::endl;\n",
        "    std::cout << \"⏱ Tiempo de ejecución en C++: \" << duracion.count() << \" segundos\" << std::endl;\n",
        "    return 0;\n",
        "}\n"
      ],
      "metadata": {
        "colab": {
          "base_uri": "https://localhost:8080/"
        },
        "id": "I4Pq-RWsa7uN",
        "outputId": "fd9d1a79-9ad8-441b-bfcc-3569aebb22e9"
      },
      "execution_count": 2,
      "outputs": [
        {
          "output_type": "stream",
          "name": "stdout",
          "text": [
            "Writing tarea.cpp\n"
          ]
        }
      ]
    },
    {
      "cell_type": "code",
      "source": [
        "!pwd\n"
      ],
      "metadata": {
        "colab": {
          "base_uri": "https://localhost:8080/"
        },
        "id": "erL064t2S2FM",
        "outputId": "955cbc0e-d655-40c3-c96b-e34f93c6720a"
      },
      "execution_count": 4,
      "outputs": [
        {
          "output_type": "stream",
          "name": "stdout",
          "text": [
            "/content\n"
          ]
        }
      ]
    },
    {
      "cell_type": "code",
      "source": [
        "!ls -la"
      ],
      "metadata": {
        "colab": {
          "base_uri": "https://localhost:8080/"
        },
        "id": "zCpKOHGwSofz",
        "outputId": "d7b1655b-db86-482c-eb1e-624195196bf4"
      },
      "execution_count": 16,
      "outputs": [
        {
          "output_type": "stream",
          "name": "stdout",
          "text": [
            "total 44\n",
            "drwxr-xr-x 1 root root  4096 Apr 11 00:44 .\n",
            "drwxr-xr-x 1 root root  4096 Apr 11 00:38 ..\n",
            "drwxr-xr-x 4 root root  4096 Apr  9 13:38 .config\n",
            "drwxr-xr-x 1 root root  4096 Apr  9 13:38 sample_data\n",
            "-rwxr-xr-x 1 root root 18064 Apr 11 00:42 tarea\n",
            "-rw-r--r-- 1 root root   478 Apr 11 00:40 tarea.cpp\n",
            "-rw-r--r-- 1 root root   381 Apr 11 00:48 tarea.cs\n"
          ]
        }
      ]
    },
    {
      "cell_type": "code",
      "source": [
        "!g++ tarea.cpp -o tarea\n"
      ],
      "metadata": {
        "id": "lo1w-jCCwFot"
      },
      "execution_count": 6,
      "outputs": []
    },
    {
      "cell_type": "code",
      "source": [
        "!./tarea"
      ],
      "metadata": {
        "colab": {
          "base_uri": "https://localhost:8080/"
        },
        "id": "qeO6-V-ZTHUJ",
        "outputId": "6305b188-faab-4272-d58d-e575810f58a3"
      },
      "execution_count": 27,
      "outputs": [
        {
          "output_type": "stream",
          "name": "stdout",
          "text": [
            "Resultado: 49999995000000\n",
            "⏱ Tiempo de ejecución en C++: 0.0326204 segundos\n"
          ]
        }
      ]
    },
    {
      "cell_type": "code",
      "source": [
        "%%writefile tarea.cs\n",
        "using System;\n",
        "using System.Diagnostics;\n",
        "\n",
        "class Program\n",
        "{\n",
        "    static void Main()\n",
        "    {\n",
        "        var sw = Stopwatch.StartNew();\n",
        "        long total = 0;\n",
        "        for (int i = 0; i < 10000000; i++) total += i;\n",
        "        sw.Stop();\n",
        "        Console.WriteLine($\"Resultado: {total}\");\n",
        "        Console.WriteLine($\"⏱ Tiempo de ejecución en C#: {sw.Elapsed.TotalSeconds} segundos\");\n",
        "    }\n",
        "}\n"
      ],
      "metadata": {
        "colab": {
          "base_uri": "https://localhost:8080/"
        },
        "id": "zmpCDmsYbGz3",
        "outputId": "d76aabdb-5b4a-44dd-b9ca-0838d14c60ab"
      },
      "execution_count": 13,
      "outputs": [
        {
          "output_type": "stream",
          "name": "stdout",
          "text": [
            "Overwriting tarea.cs\n"
          ]
        }
      ]
    },
    {
      "cell_type": "code",
      "source": [
        "!ls -la"
      ],
      "metadata": {
        "colab": {
          "base_uri": "https://localhost:8080/"
        },
        "id": "EzHLW815TgFG",
        "outputId": "e41ac80f-578f-4eab-b920-aebd3937c6ce"
      },
      "execution_count": 25,
      "outputs": [
        {
          "output_type": "stream",
          "name": "stdout",
          "text": [
            "total 48\n",
            "drwxr-xr-x 1 root root  4096 Apr 11 01:16 .\n",
            "drwxr-xr-x 1 root root  4096 Apr 11 00:38 ..\n",
            "drwxr-xr-x 4 root root  4096 Apr  9 13:38 .config\n",
            "drwxr-xr-x 1 root root  4096 Apr  9 13:38 sample_data\n",
            "-rwxr-xr-x 1 root root 18064 Apr 11 00:42 tarea\n",
            "-rw-r--r-- 1 root root   478 Apr 11 00:40 tarea.cpp\n",
            "-rw-r--r-- 1 root root   381 Apr 11 00:48 tarea.cs\n",
            "-rwxr-xr-x 1 root root  3584 Apr 11 01:16 tarea.exe\n"
          ]
        }
      ]
    },
    {
      "cell_type": "code",
      "source": [
        "!lsb_release -a\n"
      ],
      "metadata": {
        "colab": {
          "base_uri": "https://localhost:8080/"
        },
        "id": "HXczaNLHbh0v",
        "outputId": "52b5f123-9c0a-46c6-c0da-189eee7c37bd"
      },
      "execution_count": 15,
      "outputs": [
        {
          "output_type": "stream",
          "name": "stdout",
          "text": [
            "No LSB modules are available.\n",
            "Distributor ID:\tUbuntu\n",
            "Description:\tUbuntu 22.04.4 LTS\n",
            "Release:\t22.04\n",
            "Codename:\tjammy\n"
          ]
        }
      ]
    },
    {
      "cell_type": "markdown",
      "source": [
        "Con este comando yo estoy instalando el compilador de C# y su vm"
      ],
      "metadata": {
        "id": "v5oP_VtRa_hr"
      }
    },
    {
      "cell_type": "code",
      "source": [
        "!sudo apt install -y mono-complete"
      ],
      "metadata": {
        "colab": {
          "base_uri": "https://localhost:8080/"
        },
        "id": "MO8Vm02Nb5ua",
        "outputId": "a19b5e93-f5c6-4da3-99fb-4267e203afee"
      },
      "execution_count": 23,
      "outputs": [
        {
          "output_type": "stream",
          "name": "stdout",
          "text": [
            "Reading package lists... Done\n",
            "Building dependency tree... Done\n",
            "Reading state information... Done\n",
            "mono-complete is already the newest version (6.8.0.105+dfsg-3.2).\n",
            "0 upgraded, 0 newly installed, 0 to remove and 30 not upgraded.\n"
          ]
        }
      ]
    },
    {
      "cell_type": "code",
      "source": [
        "!mcs tarea.cs\n"
      ],
      "metadata": {
        "id": "VwnWEMagbLih"
      },
      "execution_count": 24,
      "outputs": []
    },
    {
      "cell_type": "code",
      "source": [
        " !mono tarea.exe"
      ],
      "metadata": {
        "colab": {
          "base_uri": "https://localhost:8080/"
        },
        "id": "VpBF76rnUyt6",
        "outputId": "8b506313-ed2d-445b-b9d5-4b1188bbf6b6"
      },
      "execution_count": 28,
      "outputs": [
        {
          "output_type": "stream",
          "name": "stdout",
          "text": [
            "Resultado: 49999995000000\n",
            "⏱ Tiempo de ejecución en C#: 0.0115062 segundos\n"
          ]
        }
      ]
    }
  ]
}